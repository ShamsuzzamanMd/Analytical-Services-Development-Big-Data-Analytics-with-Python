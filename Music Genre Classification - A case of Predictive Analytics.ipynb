{
 "cells": [
  {
   "cell_type": "raw",
   "metadata": {},
   "source": [
    "Md Shamsuzzaman\n",
    "\n",
    "MSc. of Engineering in Big Data Analytics"
   ]
  },
  {
   "cell_type": "markdown",
   "metadata": {},
   "source": [
    "# MULTICLASS CLASSIFICATION FOR  MUSIC GENRES\n"
   ]
  },
  {
   "cell_type": "code",
   "execution_count": null,
   "metadata": {},
   "outputs": [],
   "source": []
  },
  {
   "cell_type": "markdown",
   "metadata": {},
   "source": [
    "This project was carried out as a part of an academic course entitled by “Analytical Service Development”. The objective of this project was to predict song genre followed by Fourier analysis. In this project, the data was collected from the Bangladeshi music market over the internet, personal collection, and public announcement. Total amount of the collected data was 10GB. In the analysis part, both Machine Learning (ML) and Deep Learning (DL) were used for the prediction of the genre and about 61% accuracy was attained through these analyses.  "
   ]
  },
  {
   "cell_type": "code",
   "execution_count": null,
   "metadata": {},
   "outputs": [],
   "source": []
  },
  {
   "cell_type": "code",
   "execution_count": 1,
   "metadata": {},
   "outputs": [],
   "source": [
    "# packages import \n",
    "\n",
    "%matplotlib inline\n",
    "import itertools\n",
    "import numpy, scipy, matplotlib.pyplot as plt, pandas, librosa,sklearn\n",
    "import config\n",
    "\n",
    "from sklearn.neighbors import KNeighborsClassifier\n",
    "from sklearn.ensemble import RandomForestClassifier\n",
    "from sklearn.neural_network import MLPClassifier\n",
    "from sklearn.svm import SVC"
   ]
  },
  {
   "cell_type": "code",
   "execution_count": 2,
   "metadata": {
    "scrolled": true
   },
   "outputs": [
    {
     "data": {
      "text/html": [
       "<div>\n",
       "<style scoped>\n",
       "    .dataframe tbody tr th:only-of-type {\n",
       "        vertical-align: middle;\n",
       "    }\n",
       "\n",
       "    .dataframe tbody tr th {\n",
       "        vertical-align: top;\n",
       "    }\n",
       "\n",
       "    .dataframe thead th {\n",
       "        text-align: right;\n",
       "    }\n",
       "</style>\n",
       "<table border=\"1\" class=\"dataframe\">\n",
       "  <thead>\n",
       "    <tr style=\"text-align: right;\">\n",
       "      <th></th>\n",
       "      <th>meanZCR</th>\n",
       "      <th>stdZCR</th>\n",
       "      <th>meanSpecCentroid</th>\n",
       "      <th>stdSpecCentroid</th>\n",
       "      <th>meanSpecContrast</th>\n",
       "      <th>stdSpecContrast</th>\n",
       "      <th>meanSpecBandwidth</th>\n",
       "      <th>stdSpecBandwidth</th>\n",
       "      <th>meanSpecRollof</th>\n",
       "      <th>stdSpecRollof</th>\n",
       "      <th>...</th>\n",
       "      <th>stdMFCC_9</th>\n",
       "      <th>meanMFCC_10</th>\n",
       "      <th>stdMFCC_10</th>\n",
       "      <th>meanMFCC_11</th>\n",
       "      <th>stdMFCC_11</th>\n",
       "      <th>meanMFCC_12</th>\n",
       "      <th>stdMFCC_12</th>\n",
       "      <th>meanMFCC_13</th>\n",
       "      <th>stdMFCC_13</th>\n",
       "      <th>genre</th>\n",
       "    </tr>\n",
       "  </thead>\n",
       "  <tbody>\n",
       "    <tr>\n",
       "      <th>0</th>\n",
       "      <td>0.962721</td>\n",
       "      <td>-0.601874</td>\n",
       "      <td>0.983954</td>\n",
       "      <td>-0.612836</td>\n",
       "      <td>-0.742546</td>\n",
       "      <td>-0.755910</td>\n",
       "      <td>0.812723</td>\n",
       "      <td>-0.695148</td>\n",
       "      <td>0.966339</td>\n",
       "      <td>-0.617198</td>\n",
       "      <td>...</td>\n",
       "      <td>-0.757113</td>\n",
       "      <td>0.259305</td>\n",
       "      <td>-0.702903</td>\n",
       "      <td>0.161542</td>\n",
       "      <td>-0.675466</td>\n",
       "      <td>0.158719</td>\n",
       "      <td>-0.751043</td>\n",
       "      <td>0.002768</td>\n",
       "      <td>-0.684250</td>\n",
       "      <td>Adhunik</td>\n",
       "    </tr>\n",
       "    <tr>\n",
       "      <th>1</th>\n",
       "      <td>0.489787</td>\n",
       "      <td>0.331832</td>\n",
       "      <td>0.360995</td>\n",
       "      <td>-0.490174</td>\n",
       "      <td>-0.545470</td>\n",
       "      <td>-0.576120</td>\n",
       "      <td>0.761158</td>\n",
       "      <td>-0.669701</td>\n",
       "      <td>0.599201</td>\n",
       "      <td>-0.543727</td>\n",
       "      <td>...</td>\n",
       "      <td>-0.611994</td>\n",
       "      <td>0.076543</td>\n",
       "      <td>-0.053326</td>\n",
       "      <td>-0.124967</td>\n",
       "      <td>-0.717158</td>\n",
       "      <td>0.013013</td>\n",
       "      <td>-0.719873</td>\n",
       "      <td>-0.348223</td>\n",
       "      <td>-0.443437</td>\n",
       "      <td>Adhunik</td>\n",
       "    </tr>\n",
       "    <tr>\n",
       "      <th>2</th>\n",
       "      <td>0.419249</td>\n",
       "      <td>0.220103</td>\n",
       "      <td>0.293166</td>\n",
       "      <td>-0.337192</td>\n",
       "      <td>-0.531619</td>\n",
       "      <td>-0.541354</td>\n",
       "      <td>0.692485</td>\n",
       "      <td>-0.615743</td>\n",
       "      <td>0.503967</td>\n",
       "      <td>-0.338720</td>\n",
       "      <td>...</td>\n",
       "      <td>-0.738532</td>\n",
       "      <td>0.195369</td>\n",
       "      <td>-0.694261</td>\n",
       "      <td>-0.100478</td>\n",
       "      <td>-0.559201</td>\n",
       "      <td>-0.002678</td>\n",
       "      <td>-0.656888</td>\n",
       "      <td>-0.303428</td>\n",
       "      <td>-0.745899</td>\n",
       "      <td>Adhunik</td>\n",
       "    </tr>\n",
       "    <tr>\n",
       "      <th>3</th>\n",
       "      <td>0.707558</td>\n",
       "      <td>-0.150335</td>\n",
       "      <td>0.794879</td>\n",
       "      <td>-0.107344</td>\n",
       "      <td>-0.664695</td>\n",
       "      <td>-0.577673</td>\n",
       "      <td>0.674896</td>\n",
       "      <td>-0.231656</td>\n",
       "      <td>0.789003</td>\n",
       "      <td>-0.054182</td>\n",
       "      <td>...</td>\n",
       "      <td>-0.894098</td>\n",
       "      <td>0.266507</td>\n",
       "      <td>-0.880440</td>\n",
       "      <td>-0.095706</td>\n",
       "      <td>-0.854582</td>\n",
       "      <td>0.066147</td>\n",
       "      <td>-0.832387</td>\n",
       "      <td>-0.291351</td>\n",
       "      <td>-0.692726</td>\n",
       "      <td>Adhunik</td>\n",
       "    </tr>\n",
       "    <tr>\n",
       "      <th>4</th>\n",
       "      <td>0.055773</td>\n",
       "      <td>-0.285244</td>\n",
       "      <td>0.285656</td>\n",
       "      <td>-0.014140</td>\n",
       "      <td>-0.659572</td>\n",
       "      <td>-0.459264</td>\n",
       "      <td>0.739968</td>\n",
       "      <td>-0.454382</td>\n",
       "      <td>0.548645</td>\n",
       "      <td>-0.181314</td>\n",
       "      <td>...</td>\n",
       "      <td>-0.775438</td>\n",
       "      <td>0.120252</td>\n",
       "      <td>-0.473478</td>\n",
       "      <td>-0.073089</td>\n",
       "      <td>-0.528988</td>\n",
       "      <td>0.053426</td>\n",
       "      <td>-0.763586</td>\n",
       "      <td>-0.276285</td>\n",
       "      <td>-0.808457</td>\n",
       "      <td>Adhunik</td>\n",
       "    </tr>\n",
       "  </tbody>\n",
       "</table>\n",
       "<p>5 rows × 37 columns</p>\n",
       "</div>"
      ],
      "text/plain": [
       "    meanZCR    stdZCR  meanSpecCentroid  stdSpecCentroid  meanSpecContrast  \\\n",
       "0  0.962721 -0.601874          0.983954        -0.612836         -0.742546   \n",
       "1  0.489787  0.331832          0.360995        -0.490174         -0.545470   \n",
       "2  0.419249  0.220103          0.293166        -0.337192         -0.531619   \n",
       "3  0.707558 -0.150335          0.794879        -0.107344         -0.664695   \n",
       "4  0.055773 -0.285244          0.285656        -0.014140         -0.659572   \n",
       "\n",
       "   stdSpecContrast  meanSpecBandwidth  stdSpecBandwidth  meanSpecRollof  \\\n",
       "0        -0.755910           0.812723         -0.695148        0.966339   \n",
       "1        -0.576120           0.761158         -0.669701        0.599201   \n",
       "2        -0.541354           0.692485         -0.615743        0.503967   \n",
       "3        -0.577673           0.674896         -0.231656        0.789003   \n",
       "4        -0.459264           0.739968         -0.454382        0.548645   \n",
       "\n",
       "   stdSpecRollof  ...  stdMFCC_9  meanMFCC_10  stdMFCC_10  meanMFCC_11  \\\n",
       "0      -0.617198  ...  -0.757113     0.259305   -0.702903     0.161542   \n",
       "1      -0.543727  ...  -0.611994     0.076543   -0.053326    -0.124967   \n",
       "2      -0.338720  ...  -0.738532     0.195369   -0.694261    -0.100478   \n",
       "3      -0.054182  ...  -0.894098     0.266507   -0.880440    -0.095706   \n",
       "4      -0.181314  ...  -0.775438     0.120252   -0.473478    -0.073089   \n",
       "\n",
       "   stdMFCC_11  meanMFCC_12  stdMFCC_12  meanMFCC_13  stdMFCC_13    genre  \n",
       "0   -0.675466     0.158719   -0.751043     0.002768   -0.684250  Adhunik  \n",
       "1   -0.717158     0.013013   -0.719873    -0.348223   -0.443437  Adhunik  \n",
       "2   -0.559201    -0.002678   -0.656888    -0.303428   -0.745899  Adhunik  \n",
       "3   -0.854582     0.066147   -0.832387    -0.291351   -0.692726  Adhunik  \n",
       "4   -0.528988     0.053426   -0.763586    -0.276285   -0.808457  Adhunik  \n",
       "\n",
       "[5 rows x 37 columns]"
      ]
     },
     "execution_count": 2,
     "metadata": {},
     "output_type": "execute_result"
    }
   ],
   "source": [
    "# data set\n",
    "data_set=pandas.read_csv('data_set.csv',index_col=False)\n",
    "GENRES=['Adhunik', 'band', 'Deshhottobodhok', 'Nazrul', 'Polligiti', 'Rabindro','Rock']\n",
    "data_set[:5]"
   ]
  },
  {
   "cell_type": "code",
   "execution_count": 3,
   "metadata": {},
   "outputs": [
    {
     "name": "stdout",
     "output_type": "stream",
     "text": [
      "Training data size: (336, 37)\n",
      "Test data size: (144, 37)\n"
     ]
    }
   ],
   "source": [
    "# data splitting\n",
    "\n",
    "from sklearn.model_selection import train_test_split\n",
    "number_of_rows,number_of_cols = data_set.shape\n",
    "data_set_values=numpy.array(data_set)\n",
    "train, test = train_test_split(data_set_values, test_size = 0.3,random_state=42,\n",
    "                              stratify=data_set_values[:,number_of_cols-1])\n",
    "train_x=train[:,:number_of_cols-1]\n",
    "train_y=train[:,number_of_cols-1]\n",
    "test_x=test[:,:number_of_cols-1]\n",
    "test_y=test[:,number_of_cols-1]\n",
    "\n",
    "print(\"Training data size: {}\".format(train.shape))\n",
    "print(\"Test data size: {}\".format(test.shape))"
   ]
  },
  {
   "cell_type": "code",
   "execution_count": null,
   "metadata": {},
   "outputs": [],
   "source": []
  },
  {
   "cell_type": "code",
   "execution_count": 4,
   "metadata": {},
   "outputs": [],
   "source": [
    "# confusion matrix \n",
    "\n",
    "def confusion_matrix(cm, classes,\n",
    "                          title='Confusion matrix',\n",
    "                          cmap=plt.cm.Blues):\n",
    "   \n",
    "    plt.imshow(cm, interpolation='nearest', cmap=cmap)\n",
    "    plt.title(title)\n",
    "    plt.colorbar()\n",
    "    tick_marks = numpy.arange(len(classes))\n",
    "    plt.xticks(tick_marks, classes, rotation=45)\n",
    "    plt.yticks(tick_marks, classes)\n",
    "\n",
    "    thresh = cm.max() / 2.\n",
    "    for i, j in itertools.product(range(cm.shape[0]), range(cm.shape[1])):\n",
    "        plt.text(j, i, cm[i, j],\n",
    "                 horizontalalignment=\"center\",\n",
    "                 color=\"white\" if cm[i, j] > thresh else \"black\")\n",
    "\n",
    "    plt.tight_layout()\n",
    "    plt.ylabel('True label')\n",
    "    plt.xlabel('Predicted label')\n",
    "\n",
    "def plot_cnf(model,dataset_x,dataset_y,GENRES):\n",
    "    true_y=dataset_y\n",
    "    true_x=dataset_x\n",
    "    pred=model.predict(true_x)\n",
    "\n",
    "    print(\"---------------PERFORMANCE ANALYSIS FOR THE MODEL----------------\\n\")\n",
    "\n",
    "    print(\"Real Test dataset labels: \\n{}\\n\".format(true_y))\n",
    "    print(\"Predicted Test dataset labels: \\n{}\".format(pred))\n",
    "\n",
    "    cnf_matrix=sklearn.metrics.confusion_matrix(true_y,pred)\n",
    "    plt.figure()\n",
    "    a=confusion_matrix(cnf_matrix,classes=GENRES,title='Confusion matrix')"
   ]
  },
  {
   "cell_type": "markdown",
   "metadata": {},
   "source": [
    "## Application of KNN algorithm and its performance analysis"
   ]
  },
  {
   "cell_type": "code",
   "execution_count": 5,
   "metadata": {},
   "outputs": [
    {
     "name": "stdout",
     "output_type": "stream",
     "text": [
      "Max Accuracy is 0.618 on test dataset with 5 neighbors.\n",
      "\n",
      "Test score: 0.618\n"
     ]
    },
    {
     "data": {
      "image/png": "[encoded data removed]",
      "text/plain": [
       "<Figure size 432x288 with 1 Axes>"
      ]
     },
     "metadata": {
      "needs_background": "light"
     },
     "output_type": "display_data"
    }
   ],
   "source": [
    "results_knn=[]\n",
    "for i in range(1,11):\n",
    "    knn=KNeighborsClassifier(n_neighbors=i)\n",
    "    knn.fit(train_x,train_y)\n",
    "    results_knn.append(knn.score(test_x,test_y))\n",
    "    \n",
    "max_accuracy_knn=max(results_knn)\n",
    "best_k=1+results_knn.index(max(results_knn))\n",
    "print(\"Max Accuracy is {:.3f} on test dataset with {} neighbors.\\n\".format(max_accuracy_knn,best_k))\n",
    "\n",
    "plt.plot(numpy.arange(1,11),results_knn)\n",
    "plt.xlabel(\"n Neighbors\")\n",
    "plt.ylabel(\"Accuracy\")\n",
    "\n",
    "\n",
    "knn=KNeighborsClassifier(n_neighbors=best_k)\n",
    "knn.fit(train_x,train_y)\n",
    "\n",
    "print(\"Test score: {:.3f}\".format(knn.score(test_x,test_y)))  \n",
    "\n"
   ]
  },
  {
   "cell_type": "code",
   "execution_count": 6,
   "metadata": {},
   "outputs": [
    {
     "name": "stdout",
     "output_type": "stream",
     "text": [
      "---------------PERFORMANCE ANALYSIS FOR THE MODEL----------------\n",
      "\n",
      "Real Test dataset labels: \n",
      "['Polligiti' 'Polligiti' 'Polligiti' 'Polligiti' 'Band' 'Nazrul' 'Nazrul'\n",
      " 'Polligiti' 'Band' 'Polligiti' 'Deshhottobodhok' 'Polligiti' 'Band'\n",
      " 'Adhunik' 'Polligiti' 'Polligiti' 'Rock' 'Rabindro' 'Polligiti'\n",
      " 'Polligiti' 'Rabindro' 'Nazrul' 'Polligiti' 'Nazrul' 'Adhunik'\n",
      " 'Polligiti' 'Rabindro' 'Polligiti' 'Nazrul' 'Rock' 'Polligiti' 'Nazrul'\n",
      " 'Deshhottobodhok' 'Polligiti' 'Band' 'Polligiti' 'Polligiti'\n",
      " 'Deshhottobodhok' 'Rabindro' 'Polligiti' 'Nazrul' 'Polligiti' 'Polligiti'\n",
      " 'Polligiti' 'Adhunik' 'Band' 'Band' 'Nazrul' 'Adhunik' 'Band' 'Adhunik'\n",
      " 'Polligiti' 'Nazrul' 'Polligiti' 'Rock' 'Rock' 'Nazrul' 'Band'\n",
      " 'Polligiti' 'Deshhottobodhok' 'Nazrul' 'Rabindro' 'Nazrul' 'Polligiti'\n",
      " 'Polligiti' 'Polligiti' 'Polligiti' 'Rabindro' 'Adhunik'\n",
      " 'Deshhottobodhok' 'Deshhottobodhok' 'Deshhottobodhok' 'Polligiti'\n",
      " 'Rabindro' 'Rock' 'Nazrul' 'Adhunik' 'Nazrul' 'Polligiti' 'Adhunik'\n",
      " 'Polligiti' 'Band' 'Deshhottobodhok' 'Adhunik' 'Nazrul' 'Deshhottobodhok'\n",
      " 'Polligiti' 'Polligiti' 'Nazrul' 'Adhunik' 'Deshhottobodhok' 'Adhunik'\n",
      " 'Band' 'Adhunik' 'Adhunik' 'Polligiti' 'Nazrul' 'Polligiti' 'Polligiti'\n",
      " 'Adhunik' 'Polligiti' 'Rabindro' 'Polligiti' 'Band' 'Rabindro' 'Adhunik'\n",
      " 'Rabindro' 'Rabindro' 'Rabindro' 'Polligiti' 'Nazrul' 'Polligiti'\n",
      " 'Adhunik' 'Rabindro' 'Deshhottobodhok' 'Rabindro' 'Polligiti' 'Rock'\n",
      " 'Deshhottobodhok' 'Nazrul' 'Polligiti' 'Polligiti' 'Nazrul' 'Polligiti'\n",
      " 'Polligiti' 'Rabindro' 'Deshhottobodhok' 'Polligiti' 'Band' 'Polligiti'\n",
      " 'Deshhottobodhok' 'Polligiti' 'Deshhottobodhok' 'Deshhottobodhok'\n",
      " 'Polligiti' 'Adhunik' 'Rabindro' 'Adhunik' 'Nazrul' 'Band' 'Nazrul'\n",
      " 'Polligiti' 'Adhunik' 'Band']\n",
      "\n",
      "Predicted Test dataset labels: \n",
      "['Polligiti' 'Polligiti' 'Polligiti' 'Polligiti' 'Adhunik' 'Nazrul'\n",
      " 'Nazrul' 'Nazrul' 'Band' 'Adhunik' 'Polligiti' 'Polligiti' 'Band'\n",
      " 'Adhunik' 'Polligiti' 'Polligiti' 'Rock' 'Band' 'Band' 'Band' 'Polligiti'\n",
      " 'Nazrul' 'Adhunik' 'Nazrul' 'Adhunik' 'Polligiti' 'Nazrul' 'Polligiti'\n",
      " 'Rock' 'Polligiti' 'Polligiti' 'Nazrul' 'Nazrul' 'Nazrul' 'Band' 'Rock'\n",
      " 'Polligiti' 'Polligiti' 'Band' 'Polligiti' 'Nazrul' 'Polligiti'\n",
      " 'Polligiti' 'Nazrul' 'Adhunik' 'Band' 'Band' 'Nazrul' 'Adhunik' 'Band'\n",
      " 'Polligiti' 'Nazrul' 'Band' 'Polligiti' 'Rock' 'Nazrul' 'Nazrul' 'Band'\n",
      " 'Polligiti' 'Deshhottobodhok' 'Band' 'Band' 'Nazrul' 'Polligiti'\n",
      " 'Polligiti' 'Polligiti' 'Polligiti' 'Nazrul' 'Adhunik' 'Deshhottobodhok'\n",
      " 'Deshhottobodhok' 'Nazrul' 'Polligiti' 'Nazrul' 'Band' 'Nazrul' 'Adhunik'\n",
      " 'Nazrul' 'Polligiti' 'Nazrul' 'Polligiti' 'Nazrul' 'Adhunik' 'Polligiti'\n",
      " 'Nazrul' 'Band' 'Polligiti' 'Nazrul' 'Nazrul' 'Adhunik' 'Polligiti'\n",
      " 'Adhunik' 'Band' 'Adhunik' 'Adhunik' 'Polligiti' 'Nazrul' 'Polligiti'\n",
      " 'Polligiti' 'Adhunik' 'Polligiti' 'Band' 'Polligiti' 'Adhunik' 'Band'\n",
      " 'Adhunik' 'Deshhottobodhok' 'Nazrul' 'Band' 'Deshhottobodhok' 'Nazrul'\n",
      " 'Polligiti' 'Adhunik' 'Band' 'Deshhottobodhok' 'Polligiti' 'Polligiti'\n",
      " 'Polligiti' 'Deshhottobodhok' 'Nazrul' 'Polligiti' 'Polligiti' 'Nazrul'\n",
      " 'Polligiti' 'Polligiti' 'Polligiti' 'Polligiti' 'Rabindro' 'Rock'\n",
      " 'Polligiti' 'Deshhottobodhok' 'Adhunik' 'Nazrul' 'Polligiti' 'Polligiti'\n",
      " 'Band' 'Polligiti' 'Adhunik' 'Nazrul' 'Rock' 'Nazrul' 'Polligiti'\n",
      " 'Adhunik' 'Band']\n"
     ]
    },
    {
     "data": {
      "image/png": "[encoded data removed]",
      "text/plain": [
       "<Figure size 432x288 with 2 Axes>"
      ]
     },
     "metadata": {
      "needs_background": "light"
     },
     "output_type": "display_data"
    }
   ],
   "source": [
    "plot_cnf(knn,test_x,test_y,GENRES)"
   ]
  },
  {
   "cell_type": "markdown",
   "metadata": {},
   "source": [
    "## Application of Random Forest algorithm and its performance analysis"
   ]
  },
  {
   "cell_type": "code",
   "execution_count": 7,
   "metadata": {},
   "outputs": [
    {
     "name": "stdout",
     "output_type": "stream",
     "text": [
      "Max Accuracy is 0.611 on test dataset with 16 estimators.\n",
      "\n",
      "Test score: 0.611\n"
     ]
    },
    {
     "data": {
      "image/png": "[encoded data removed]",
      "text/plain": [
       "<Figure size 432x288 with 1 Axes>"
      ]
     },
     "metadata": {
      "needs_background": "light"
     },
     "output_type": "display_data"
    }
   ],
   "source": [
    "results_forest=[]\n",
    "for i in range(2,20):\n",
    "    forest=RandomForestClassifier(random_state=42,n_estimators=i)\n",
    "    forest.fit(train_x,train_y)\n",
    "    results_forest.append(forest.score(test_x,test_y))\n",
    "    \n",
    "max_accuracy_forest=max(results_forest)\n",
    "best_n_est=2+results_forest.index(max(results_forest))\n",
    "print(\"Max Accuracy is {:.3f} on test dataset with {} estimators.\\n\".format(max_accuracy_forest,best_n_est))\n",
    "\n",
    "plt.plot(numpy.arange(2,20),results_forest)\n",
    "plt.xlabel(\"n Estimators\")\n",
    "plt.ylabel(\"Accuracy\")\n",
    "\n",
    "\n",
    "forest=RandomForestClassifier(random_state=42,n_estimators=best_n_est)\n",
    "forest.fit(train_x,train_y)\n",
    "\n",
    "print(\"Test score: {:.3f}\".format(forest.score(test_x,test_y)))\n",
    "\n"
   ]
  },
  {
   "cell_type": "code",
   "execution_count": 8,
   "metadata": {},
   "outputs": [
    {
     "name": "stdout",
     "output_type": "stream",
     "text": [
      "---------------PERFORMANCE ANALYSIS FOR THE MODEL----------------\n",
      "\n",
      "Real Test dataset labels: \n",
      "['Polligiti' 'Polligiti' 'Polligiti' 'Polligiti' 'Band' 'Nazrul' 'Nazrul'\n",
      " 'Polligiti' 'Band' 'Polligiti' 'Deshhottobodhok' 'Polligiti' 'Band'\n",
      " 'Adhunik' 'Polligiti' 'Polligiti' 'Rock' 'Rabindro' 'Polligiti'\n",
      " 'Polligiti' 'Rabindro' 'Nazrul' 'Polligiti' 'Nazrul' 'Adhunik'\n",
      " 'Polligiti' 'Rabindro' 'Polligiti' 'Nazrul' 'Rock' 'Polligiti' 'Nazrul'\n",
      " 'Deshhottobodhok' 'Polligiti' 'Band' 'Polligiti' 'Polligiti'\n",
      " 'Deshhottobodhok' 'Rabindro' 'Polligiti' 'Nazrul' 'Polligiti' 'Polligiti'\n",
      " 'Polligiti' 'Adhunik' 'Band' 'Band' 'Nazrul' 'Adhunik' 'Band' 'Adhunik'\n",
      " 'Polligiti' 'Nazrul' 'Polligiti' 'Rock' 'Rock' 'Nazrul' 'Band'\n",
      " 'Polligiti' 'Deshhottobodhok' 'Nazrul' 'Rabindro' 'Nazrul' 'Polligiti'\n",
      " 'Polligiti' 'Polligiti' 'Polligiti' 'Rabindro' 'Adhunik'\n",
      " 'Deshhottobodhok' 'Deshhottobodhok' 'Deshhottobodhok' 'Polligiti'\n",
      " 'Rabindro' 'Rock' 'Nazrul' 'Adhunik' 'Nazrul' 'Polligiti' 'Adhunik'\n",
      " 'Polligiti' 'Band' 'Deshhottobodhok' 'Adhunik' 'Nazrul' 'Deshhottobodhok'\n",
      " 'Polligiti' 'Polligiti' 'Nazrul' 'Adhunik' 'Deshhottobodhok' 'Adhunik'\n",
      " 'Band' 'Adhunik' 'Adhunik' 'Polligiti' 'Nazrul' 'Polligiti' 'Polligiti'\n",
      " 'Adhunik' 'Polligiti' 'Rabindro' 'Polligiti' 'Band' 'Rabindro' 'Adhunik'\n",
      " 'Rabindro' 'Rabindro' 'Rabindro' 'Polligiti' 'Nazrul' 'Polligiti'\n",
      " 'Adhunik' 'Rabindro' 'Deshhottobodhok' 'Rabindro' 'Polligiti' 'Rock'\n",
      " 'Deshhottobodhok' 'Nazrul' 'Polligiti' 'Polligiti' 'Nazrul' 'Polligiti'\n",
      " 'Polligiti' 'Rabindro' 'Deshhottobodhok' 'Polligiti' 'Band' 'Polligiti'\n",
      " 'Deshhottobodhok' 'Polligiti' 'Deshhottobodhok' 'Deshhottobodhok'\n",
      " 'Polligiti' 'Adhunik' 'Rabindro' 'Adhunik' 'Nazrul' 'Band' 'Nazrul'\n",
      " 'Polligiti' 'Adhunik' 'Band']\n",
      "\n",
      "Predicted Test dataset labels: \n",
      "['Polligiti' 'Polligiti' 'Polligiti' 'Polligiti' 'Adhunik' 'Nazrul'\n",
      " 'Nazrul' 'Polligiti' 'Band' 'Adhunik' 'Polligiti' 'Polligiti' 'Adhunik'\n",
      " 'Adhunik' 'Band' 'Polligiti' 'Rock' 'Band' 'Polligiti' 'Polligiti'\n",
      " 'Rabindro' 'Nazrul' 'Deshhottobodhok' 'Nazrul' 'Adhunik' 'Polligiti'\n",
      " 'Nazrul' 'Polligiti' 'Nazrul' 'Polligiti' 'Polligiti' 'Nazrul'\n",
      " 'Deshhottobodhok' 'Polligiti' 'Rabindro' 'Band' 'Polligiti'\n",
      " 'Deshhottobodhok' 'Polligiti' 'Polligiti' 'Polligiti' 'Polligiti'\n",
      " 'Polligiti' 'Polligiti' 'Adhunik' 'Band' 'Band' 'Nazrul' 'Adhunik' 'Band'\n",
      " 'Rabindro' 'Nazrul' 'Band' 'Polligiti' 'Nazrul' 'Nazrul' 'Nazrul'\n",
      " 'Adhunik' 'Polligiti' 'Rock' 'Band' 'Band' 'Nazrul' 'Band' 'Polligiti'\n",
      " 'Rabindro' 'Polligiti' 'Rabindro' 'Adhunik' 'Polligiti' 'Polligiti'\n",
      " 'Deshhottobodhok' 'Polligiti' 'Nazrul' 'Adhunik' 'Nazrul' 'Adhunik'\n",
      " 'Nazrul' 'Polligiti' 'Nazrul' 'Polligiti' 'Band' 'Rabindro' 'Band'\n",
      " 'Nazrul' 'Deshhottobodhok' 'Polligiti' 'Nazrul' 'Nazrul' 'Adhunik'\n",
      " 'Polligiti' 'Adhunik' 'Band' 'Adhunik' 'Adhunik' 'Polligiti' 'Polligiti'\n",
      " 'Polligiti' 'Polligiti' 'Adhunik' 'Polligiti' 'Band' 'Polligiti'\n",
      " 'Adhunik' 'Band' 'Adhunik' 'Rabindro' 'Deshhottobodhok' 'Band'\n",
      " 'Polligiti' 'Nazrul' 'Polligiti' 'Adhunik' 'Band' 'Polligiti' 'Polligiti'\n",
      " 'Rabindro' 'Polligiti' 'Deshhottobodhok' 'Polligiti' 'Polligiti'\n",
      " 'Polligiti' 'Deshhottobodhok' 'Polligiti' 'Polligiti' 'Polligiti'\n",
      " 'Deshhottobodhok' 'Adhunik' 'Deshhottobodhok' 'Polligiti'\n",
      " 'Deshhottobodhok' 'Band' 'Band' 'Polligiti' 'Polligiti' 'Band'\n",
      " 'Deshhottobodhok' 'Adhunik' 'Nazrul' 'Polligiti' 'Nazrul' 'Polligiti'\n",
      " 'Adhunik' 'Rabindro']\n"
     ]
    },
    {
     "data": {
      "image/png": "[encoded data removed]",
      "text/plain": [
       "<Figure size 432x288 with 2 Axes>"
      ]
     },
     "metadata": {
      "needs_background": "light"
     },
     "output_type": "display_data"
    }
   ],
   "source": [
    "plot_cnf(forest,test_x,test_y,GENRES)"
   ]
  },
  {
   "cell_type": "markdown",
   "metadata": {},
   "source": [
    "## Application of SVM algorithm and its performance analysis"
   ]
  },
  {
   "cell_type": "code",
   "execution_count": 9,
   "metadata": {
    "scrolled": true
   },
   "outputs": [
    {
     "name": "stdout",
     "output_type": "stream",
     "text": [
      "Test score: 0.611\n"
     ]
    }
   ],
   "source": [
    "svm=SVC(C=100,gamma=0.08)\n",
    "svm.fit(train_x,train_y)\n",
    "\n",
    "print(\"Test score: {:.3f}\".format(svm.score(test_x,test_y)))\n",
    "\n"
   ]
  },
  {
   "cell_type": "code",
   "execution_count": 10,
   "metadata": {},
   "outputs": [
    {
     "name": "stdout",
     "output_type": "stream",
     "text": [
      "---------------PERFORMANCE ANALYSIS FOR THE MODEL----------------\n",
      "\n",
      "Real Test dataset labels: \n",
      "['Polligiti' 'Polligiti' 'Polligiti' 'Polligiti' 'Band' 'Nazrul' 'Nazrul'\n",
      " 'Polligiti' 'Band' 'Polligiti' 'Deshhottobodhok' 'Polligiti' 'Band'\n",
      " 'Adhunik' 'Polligiti' 'Polligiti' 'Rock' 'Rabindro' 'Polligiti'\n",
      " 'Polligiti' 'Rabindro' 'Nazrul' 'Polligiti' 'Nazrul' 'Adhunik'\n",
      " 'Polligiti' 'Rabindro' 'Polligiti' 'Nazrul' 'Rock' 'Polligiti' 'Nazrul'\n",
      " 'Deshhottobodhok' 'Polligiti' 'Band' 'Polligiti' 'Polligiti'\n",
      " 'Deshhottobodhok' 'Rabindro' 'Polligiti' 'Nazrul' 'Polligiti' 'Polligiti'\n",
      " 'Polligiti' 'Adhunik' 'Band' 'Band' 'Nazrul' 'Adhunik' 'Band' 'Adhunik'\n",
      " 'Polligiti' 'Nazrul' 'Polligiti' 'Rock' 'Rock' 'Nazrul' 'Band'\n",
      " 'Polligiti' 'Deshhottobodhok' 'Nazrul' 'Rabindro' 'Nazrul' 'Polligiti'\n",
      " 'Polligiti' 'Polligiti' 'Polligiti' 'Rabindro' 'Adhunik'\n",
      " 'Deshhottobodhok' 'Deshhottobodhok' 'Deshhottobodhok' 'Polligiti'\n",
      " 'Rabindro' 'Rock' 'Nazrul' 'Adhunik' 'Nazrul' 'Polligiti' 'Adhunik'\n",
      " 'Polligiti' 'Band' 'Deshhottobodhok' 'Adhunik' 'Nazrul' 'Deshhottobodhok'\n",
      " 'Polligiti' 'Polligiti' 'Nazrul' 'Adhunik' 'Deshhottobodhok' 'Adhunik'\n",
      " 'Band' 'Adhunik' 'Adhunik' 'Polligiti' 'Nazrul' 'Polligiti' 'Polligiti'\n",
      " 'Adhunik' 'Polligiti' 'Rabindro' 'Polligiti' 'Band' 'Rabindro' 'Adhunik'\n",
      " 'Rabindro' 'Rabindro' 'Rabindro' 'Polligiti' 'Nazrul' 'Polligiti'\n",
      " 'Adhunik' 'Rabindro' 'Deshhottobodhok' 'Rabindro' 'Polligiti' 'Rock'\n",
      " 'Deshhottobodhok' 'Nazrul' 'Polligiti' 'Polligiti' 'Nazrul' 'Polligiti'\n",
      " 'Polligiti' 'Rabindro' 'Deshhottobodhok' 'Polligiti' 'Band' 'Polligiti'\n",
      " 'Deshhottobodhok' 'Polligiti' 'Deshhottobodhok' 'Deshhottobodhok'\n",
      " 'Polligiti' 'Adhunik' 'Rabindro' 'Adhunik' 'Nazrul' 'Band' 'Nazrul'\n",
      " 'Polligiti' 'Adhunik' 'Band']\n",
      "\n",
      "Predicted Test dataset labels: \n",
      "['Polligiti' 'Polligiti' 'Polligiti' 'Polligiti' 'Adhunik' 'Nazrul'\n",
      " 'Nazrul' 'Deshhottobodhok' 'Deshhottobodhok' 'Adhunik' 'Deshhottobodhok'\n",
      " 'Deshhottobodhok' 'Adhunik' 'Adhunik' 'Band' 'Polligiti' 'Band' 'Band'\n",
      " 'Polligiti' 'Polligiti' 'Rabindro' 'Nazrul' 'Band' 'Nazrul' 'Adhunik'\n",
      " 'Polligiti' 'Nazrul' 'Polligiti' 'Rock' 'Polligiti' 'Polligiti' 'Nazrul'\n",
      " 'Nazrul' 'Deshhottobodhok' 'Rabindro' 'Band' 'Polligiti' 'Rock' 'Band'\n",
      " 'Rabindro' 'Nazrul' 'Polligiti' 'Polligiti' 'Polligiti' 'Adhunik' 'Band'\n",
      " 'Band' 'Nazrul' 'Adhunik' 'Band' 'Adhunik' 'Nazrul' 'Band' 'Polligiti'\n",
      " 'Rock' 'Rock' 'Rabindro' 'Band' 'Polligiti' 'Deshhottobodhok' 'Band'\n",
      " 'Band' 'Nazrul' 'Polligiti' 'Polligiti' 'Polligiti' 'Polligiti'\n",
      " 'Rabindro' 'Adhunik' 'Deshhottobodhok' 'Rabindro' 'Deshhottobodhok'\n",
      " 'Polligiti' 'Polligiti' 'Band' 'Nazrul' 'Adhunik' 'Nazrul' 'Polligiti'\n",
      " 'Deshhottobodhok' 'Polligiti' 'Band' 'Adhunik' 'Polligiti' 'Nazrul'\n",
      " 'Rock' 'Polligiti' 'Polligiti' 'Nazrul' 'Adhunik' 'Polligiti' 'Adhunik'\n",
      " 'Deshhottobodhok' 'Adhunik' 'Adhunik' 'Polligiti' 'Nazrul' 'Polligiti'\n",
      " 'Polligiti' 'Adhunik' 'Polligiti' 'Band' 'Polligiti' 'Adhunik'\n",
      " 'Polligiti' 'Adhunik' 'Band' 'Polligiti' 'Rabindro' 'Deshhottobodhok'\n",
      " 'Nazrul' 'Nazrul' 'Band' 'Band' 'Rabindro' 'Polligiti' 'Polligiti'\n",
      " 'Deshhottobodhok' 'Deshhottobodhok' 'Nazrul' 'Polligiti' 'Polligiti'\n",
      " 'Nazrul' 'Rabindro' 'Polligiti' 'Adhunik' 'Rabindro' 'Rabindro' 'Rock'\n",
      " 'Polligiti' 'Rabindro' 'Polligiti' 'Deshhottobodhok' 'Polligiti'\n",
      " 'Polligiti' 'Band' 'Rabindro' 'Adhunik' 'Nazrul' 'Polligiti' 'Nazrul'\n",
      " 'Polligiti' 'Adhunik' 'Rabindro']\n"
     ]
    },
    {
     "data": {
      "image/png": "[encoded data removed]",
      "text/plain": [
       "<Figure size 432x288 with 2 Axes>"
      ]
     },
     "metadata": {
      "needs_background": "light"
     },
     "output_type": "display_data"
    }
   ],
   "source": [
    "plot_cnf(svm,test_x,test_y,GENRES)"
   ]
  },
  {
   "cell_type": "code",
   "execution_count": 11,
   "metadata": {},
   "outputs": [
    {
     "name": "stdout",
     "output_type": "stream",
     "text": [
      "Test score: 0.569\n"
     ]
    },
    {
     "name": "stderr",
     "output_type": "stream",
     "text": [
      "C:\\Users\\minds\\Anaconda3\\lib\\site-packages\\sklearn\\neural_network\\multilayer_perceptron.py:562: ConvergenceWarning: Stochastic Optimizer: Maximum iterations (400) reached and the optimization hasn't converged yet.\n",
      "  % self.max_iter, ConvergenceWarning)\n"
     ]
    }
   ],
   "source": [
    "neural=MLPClassifier(max_iter=400,random_state=2,hidden_layer_sizes=[40,40])\n",
    "neural.fit(train_x,train_y)\n",
    "\n",
    "print(\"Test score: {:.3f}\".format(neural.score(test_x,test_y)))\n",
    "\n"
   ]
  },
  {
   "cell_type": "code",
   "execution_count": 12,
   "metadata": {
    "scrolled": false
   },
   "outputs": [
    {
     "name": "stdout",
     "output_type": "stream",
     "text": [
      "---------------PERFORMANCE ANALYSIS FOR THE MODEL----------------\n",
      "\n",
      "Real Test dataset labels: \n",
      "['Polligiti' 'Polligiti' 'Polligiti' 'Polligiti' 'Band' 'Nazrul' 'Nazrul'\n",
      " 'Polligiti' 'Band' 'Polligiti' 'Deshhottobodhok' 'Polligiti' 'Band'\n",
      " 'Adhunik' 'Polligiti' 'Polligiti' 'Rock' 'Rabindro' 'Polligiti'\n",
      " 'Polligiti' 'Rabindro' 'Nazrul' 'Polligiti' 'Nazrul' 'Adhunik'\n",
      " 'Polligiti' 'Rabindro' 'Polligiti' 'Nazrul' 'Rock' 'Polligiti' 'Nazrul'\n",
      " 'Deshhottobodhok' 'Polligiti' 'Band' 'Polligiti' 'Polligiti'\n",
      " 'Deshhottobodhok' 'Rabindro' 'Polligiti' 'Nazrul' 'Polligiti' 'Polligiti'\n",
      " 'Polligiti' 'Adhunik' 'Band' 'Band' 'Nazrul' 'Adhunik' 'Band' 'Adhunik'\n",
      " 'Polligiti' 'Nazrul' 'Polligiti' 'Rock' 'Rock' 'Nazrul' 'Band'\n",
      " 'Polligiti' 'Deshhottobodhok' 'Nazrul' 'Rabindro' 'Nazrul' 'Polligiti'\n",
      " 'Polligiti' 'Polligiti' 'Polligiti' 'Rabindro' 'Adhunik'\n",
      " 'Deshhottobodhok' 'Deshhottobodhok' 'Deshhottobodhok' 'Polligiti'\n",
      " 'Rabindro' 'Rock' 'Nazrul' 'Adhunik' 'Nazrul' 'Polligiti' 'Adhunik'\n",
      " 'Polligiti' 'Band' 'Deshhottobodhok' 'Adhunik' 'Nazrul' 'Deshhottobodhok'\n",
      " 'Polligiti' 'Polligiti' 'Nazrul' 'Adhunik' 'Deshhottobodhok' 'Adhunik'\n",
      " 'Band' 'Adhunik' 'Adhunik' 'Polligiti' 'Nazrul' 'Polligiti' 'Polligiti'\n",
      " 'Adhunik' 'Polligiti' 'Rabindro' 'Polligiti' 'Band' 'Rabindro' 'Adhunik'\n",
      " 'Rabindro' 'Rabindro' 'Rabindro' 'Polligiti' 'Nazrul' 'Polligiti'\n",
      " 'Adhunik' 'Rabindro' 'Deshhottobodhok' 'Rabindro' 'Polligiti' 'Rock'\n",
      " 'Deshhottobodhok' 'Nazrul' 'Polligiti' 'Polligiti' 'Nazrul' 'Polligiti'\n",
      " 'Polligiti' 'Rabindro' 'Deshhottobodhok' 'Polligiti' 'Band' 'Polligiti'\n",
      " 'Deshhottobodhok' 'Polligiti' 'Deshhottobodhok' 'Deshhottobodhok'\n",
      " 'Polligiti' 'Adhunik' 'Rabindro' 'Adhunik' 'Nazrul' 'Band' 'Nazrul'\n",
      " 'Polligiti' 'Adhunik' 'Band']\n",
      "\n",
      "Predicted Test dataset labels: \n",
      "['Polligiti' 'Polligiti' 'Polligiti' 'Deshhottobodhok' 'Adhunik' 'Nazrul'\n",
      " 'Nazrul' 'Polligiti' 'Band' 'Adhunik' 'Polligiti' 'Deshhottobodhok'\n",
      " 'Band' 'Adhunik' 'Polligiti' 'Polligiti' 'Band' 'Band' 'Polligiti'\n",
      " 'Polligiti' 'Rabindro' 'Rabindro' 'Deshhottobodhok' 'Nazrul' 'Adhunik'\n",
      " 'Polligiti' 'Nazrul' 'Polligiti' 'Rock' 'Polligiti' 'Polligiti' 'Nazrul'\n",
      " 'Nazrul' 'Deshhottobodhok' 'Rabindro' 'Deshhottobodhok' 'Polligiti'\n",
      " 'Rock' 'Rabindro' 'Rabindro' 'Polligiti' 'Polligiti' 'Polligiti'\n",
      " 'Rabindro' 'Adhunik' 'Band' 'Deshhottobodhok' 'Nazrul' 'Adhunik' 'Band'\n",
      " 'Polligiti' 'Nazrul' 'Band' 'Polligiti' 'Rock' 'Rock' 'Nazrul' 'Band'\n",
      " 'Polligiti' 'Deshhottobodhok' 'Band' 'Band' 'Nazrul' 'Deshhottobodhok'\n",
      " 'Polligiti' 'Deshhottobodhok' 'Polligiti' 'Rabindro' 'Adhunik' 'Rabindro'\n",
      " 'Rabindro' 'Deshhottobodhok' 'Polligiti' 'Polligiti' 'Polligiti' 'Nazrul'\n",
      " 'Adhunik' 'Nazrul' 'Polligiti' 'Deshhottobodhok' 'Polligiti' 'Band'\n",
      " 'Adhunik' 'Nazrul' 'Nazrul' 'Rock' 'Polligiti' 'Nazrul' 'Nazrul'\n",
      " 'Adhunik' 'Polligiti' 'Adhunik' 'Deshhottobodhok' 'Adhunik' 'Adhunik'\n",
      " 'Polligiti' 'Nazrul' 'Polligiti' 'Polligiti' 'Adhunik' 'Polligiti' 'Band'\n",
      " 'Adhunik' 'Adhunik' 'Adhunik' 'Adhunik' 'Rabindro' 'Polligiti' 'Rabindro'\n",
      " 'Deshhottobodhok' 'Nazrul' 'Nazrul' 'Band' 'Band' 'Polligiti' 'Polligiti'\n",
      " 'Polligiti' 'Rabindro' 'Deshhottobodhok' 'Nazrul' 'Polligiti' 'Polligiti'\n",
      " 'Band' 'Polligiti' 'Polligiti' 'Adhunik' 'Rabindro' 'Rabindro' 'Rock'\n",
      " 'Polligiti' 'Nazrul' 'Polligiti' 'Deshhottobodhok' 'Polligiti'\n",
      " 'Polligiti' 'Band' 'Rabindro' 'Adhunik' 'Nazrul' 'Rock' 'Polligiti'\n",
      " 'Polligiti' 'Adhunik' 'Rabindro']\n"
     ]
    },
    {
     "data": {
      "image/png": "[encoded data removed]",
      "text/plain": [
       "<Figure size 432x288 with 2 Axes>"
      ]
     },
     "metadata": {
      "needs_background": "light"
     },
     "output_type": "display_data"
    }
   ],
   "source": [
    "plot_cnf(neural,test_x,test_y,GENRES)"
   ]
  },
  {
   "cell_type": "markdown",
   "metadata": {},
   "source": [
    "# Deep learning"
   ]
  },
  {
   "cell_type": "code",
   "execution_count": 13,
   "metadata": {},
   "outputs": [
    {
     "data": {
      "text/html": [
       "<div>\n",
       "<style scoped>\n",
       "    .dataframe tbody tr th:only-of-type {\n",
       "        vertical-align: middle;\n",
       "    }\n",
       "\n",
       "    .dataframe tbody tr th {\n",
       "        vertical-align: top;\n",
       "    }\n",
       "\n",
       "    .dataframe thead th {\n",
       "        text-align: right;\n",
       "    }\n",
       "</style>\n",
       "<table border=\"1\" class=\"dataframe\">\n",
       "  <thead>\n",
       "    <tr style=\"text-align: right;\">\n",
       "      <th></th>\n",
       "      <th>meanZCR</th>\n",
       "      <th>stdZCR</th>\n",
       "      <th>meanSpecCentroid</th>\n",
       "      <th>stdSpecCentroid</th>\n",
       "      <th>meanSpecContrast</th>\n",
       "      <th>stdSpecContrast</th>\n",
       "      <th>meanSpecBandwidth</th>\n",
       "      <th>stdSpecBandwidth</th>\n",
       "      <th>meanSpecRollof</th>\n",
       "      <th>stdSpecRollof</th>\n",
       "      <th>...</th>\n",
       "      <th>meanMFCC_9</th>\n",
       "      <th>stdMFCC_9</th>\n",
       "      <th>meanMFCC_10</th>\n",
       "      <th>stdMFCC_10</th>\n",
       "      <th>meanMFCC_11</th>\n",
       "      <th>stdMFCC_11</th>\n",
       "      <th>meanMFCC_12</th>\n",
       "      <th>stdMFCC_12</th>\n",
       "      <th>meanMFCC_13</th>\n",
       "      <th>stdMFCC_13</th>\n",
       "    </tr>\n",
       "  </thead>\n",
       "  <tbody>\n",
       "    <tr>\n",
       "      <th>0</th>\n",
       "      <td>0.962721</td>\n",
       "      <td>-0.601874</td>\n",
       "      <td>0.983954</td>\n",
       "      <td>-0.612836</td>\n",
       "      <td>-0.742546</td>\n",
       "      <td>-0.755910</td>\n",
       "      <td>0.812723</td>\n",
       "      <td>-0.695148</td>\n",
       "      <td>0.966339</td>\n",
       "      <td>-0.617198</td>\n",
       "      <td>...</td>\n",
       "      <td>0.072827</td>\n",
       "      <td>-0.757113</td>\n",
       "      <td>0.259305</td>\n",
       "      <td>-0.702903</td>\n",
       "      <td>0.161542</td>\n",
       "      <td>-0.675466</td>\n",
       "      <td>0.158719</td>\n",
       "      <td>-0.751043</td>\n",
       "      <td>0.002768</td>\n",
       "      <td>-0.684250</td>\n",
       "    </tr>\n",
       "    <tr>\n",
       "      <th>1</th>\n",
       "      <td>0.489787</td>\n",
       "      <td>0.331832</td>\n",
       "      <td>0.360995</td>\n",
       "      <td>-0.490174</td>\n",
       "      <td>-0.545470</td>\n",
       "      <td>-0.576120</td>\n",
       "      <td>0.761158</td>\n",
       "      <td>-0.669701</td>\n",
       "      <td>0.599201</td>\n",
       "      <td>-0.543727</td>\n",
       "      <td>...</td>\n",
       "      <td>-0.196826</td>\n",
       "      <td>-0.611994</td>\n",
       "      <td>0.076543</td>\n",
       "      <td>-0.053326</td>\n",
       "      <td>-0.124967</td>\n",
       "      <td>-0.717158</td>\n",
       "      <td>0.013013</td>\n",
       "      <td>-0.719873</td>\n",
       "      <td>-0.348223</td>\n",
       "      <td>-0.443437</td>\n",
       "    </tr>\n",
       "    <tr>\n",
       "      <th>2</th>\n",
       "      <td>0.419249</td>\n",
       "      <td>0.220103</td>\n",
       "      <td>0.293166</td>\n",
       "      <td>-0.337192</td>\n",
       "      <td>-0.531619</td>\n",
       "      <td>-0.541354</td>\n",
       "      <td>0.692485</td>\n",
       "      <td>-0.615743</td>\n",
       "      <td>0.503967</td>\n",
       "      <td>-0.338720</td>\n",
       "      <td>...</td>\n",
       "      <td>-0.095695</td>\n",
       "      <td>-0.738532</td>\n",
       "      <td>0.195369</td>\n",
       "      <td>-0.694261</td>\n",
       "      <td>-0.100478</td>\n",
       "      <td>-0.559201</td>\n",
       "      <td>-0.002678</td>\n",
       "      <td>-0.656888</td>\n",
       "      <td>-0.303428</td>\n",
       "      <td>-0.745899</td>\n",
       "    </tr>\n",
       "    <tr>\n",
       "      <th>3</th>\n",
       "      <td>0.707558</td>\n",
       "      <td>-0.150335</td>\n",
       "      <td>0.794879</td>\n",
       "      <td>-0.107344</td>\n",
       "      <td>-0.664695</td>\n",
       "      <td>-0.577673</td>\n",
       "      <td>0.674896</td>\n",
       "      <td>-0.231656</td>\n",
       "      <td>0.789003</td>\n",
       "      <td>-0.054182</td>\n",
       "      <td>...</td>\n",
       "      <td>-0.085974</td>\n",
       "      <td>-0.894098</td>\n",
       "      <td>0.266507</td>\n",
       "      <td>-0.880440</td>\n",
       "      <td>-0.095706</td>\n",
       "      <td>-0.854582</td>\n",
       "      <td>0.066147</td>\n",
       "      <td>-0.832387</td>\n",
       "      <td>-0.291351</td>\n",
       "      <td>-0.692726</td>\n",
       "    </tr>\n",
       "    <tr>\n",
       "      <th>4</th>\n",
       "      <td>0.055773</td>\n",
       "      <td>-0.285244</td>\n",
       "      <td>0.285656</td>\n",
       "      <td>-0.014140</td>\n",
       "      <td>-0.659572</td>\n",
       "      <td>-0.459264</td>\n",
       "      <td>0.739968</td>\n",
       "      <td>-0.454382</td>\n",
       "      <td>0.548645</td>\n",
       "      <td>-0.181314</td>\n",
       "      <td>...</td>\n",
       "      <td>-0.106465</td>\n",
       "      <td>-0.775438</td>\n",
       "      <td>0.120252</td>\n",
       "      <td>-0.473478</td>\n",
       "      <td>-0.073089</td>\n",
       "      <td>-0.528988</td>\n",
       "      <td>0.053426</td>\n",
       "      <td>-0.763586</td>\n",
       "      <td>-0.276285</td>\n",
       "      <td>-0.808457</td>\n",
       "    </tr>\n",
       "  </tbody>\n",
       "</table>\n",
       "<p>5 rows × 36 columns</p>\n",
       "</div>"
      ],
      "text/plain": [
       "    meanZCR    stdZCR  meanSpecCentroid  stdSpecCentroid  meanSpecContrast  \\\n",
       "0  0.962721 -0.601874          0.983954        -0.612836         -0.742546   \n",
       "1  0.489787  0.331832          0.360995        -0.490174         -0.545470   \n",
       "2  0.419249  0.220103          0.293166        -0.337192         -0.531619   \n",
       "3  0.707558 -0.150335          0.794879        -0.107344         -0.664695   \n",
       "4  0.055773 -0.285244          0.285656        -0.014140         -0.659572   \n",
       "\n",
       "   stdSpecContrast  meanSpecBandwidth  stdSpecBandwidth  meanSpecRollof  \\\n",
       "0        -0.755910           0.812723         -0.695148        0.966339   \n",
       "1        -0.576120           0.761158         -0.669701        0.599201   \n",
       "2        -0.541354           0.692485         -0.615743        0.503967   \n",
       "3        -0.577673           0.674896         -0.231656        0.789003   \n",
       "4        -0.459264           0.739968         -0.454382        0.548645   \n",
       "\n",
       "   stdSpecRollof  ...  meanMFCC_9  stdMFCC_9  meanMFCC_10  stdMFCC_10  \\\n",
       "0      -0.617198  ...    0.072827  -0.757113     0.259305   -0.702903   \n",
       "1      -0.543727  ...   -0.196826  -0.611994     0.076543   -0.053326   \n",
       "2      -0.338720  ...   -0.095695  -0.738532     0.195369   -0.694261   \n",
       "3      -0.054182  ...   -0.085974  -0.894098     0.266507   -0.880440   \n",
       "4      -0.181314  ...   -0.106465  -0.775438     0.120252   -0.473478   \n",
       "\n",
       "   meanMFCC_11  stdMFCC_11  meanMFCC_12  stdMFCC_12  meanMFCC_13  stdMFCC_13  \n",
       "0     0.161542   -0.675466     0.158719   -0.751043     0.002768   -0.684250  \n",
       "1    -0.124967   -0.717158     0.013013   -0.719873    -0.348223   -0.443437  \n",
       "2    -0.100478   -0.559201    -0.002678   -0.656888    -0.303428   -0.745899  \n",
       "3    -0.095706   -0.854582     0.066147   -0.832387    -0.291351   -0.692726  \n",
       "4    -0.073089   -0.528988     0.053426   -0.763586    -0.276285   -0.808457  \n",
       "\n",
       "[5 rows x 36 columns]"
      ]
     },
     "execution_count": 13,
     "metadata": {},
     "output_type": "execute_result"
    }
   ],
   "source": [
    "data=data_set\n",
    "# Dropping unneccesary columns\n",
    "data = data.drop(['genre'],axis=1)\n",
    "data.head()"
   ]
  },
  {
   "cell_type": "code",
   "execution_count": 14,
   "metadata": {},
   "outputs": [],
   "source": [
    "from sklearn.model_selection import train_test_split\n",
    "from sklearn.preprocessing import LabelEncoder, StandardScaler\n",
    "import numpy as np\n",
    "genre_list = data_set.iloc[:, -1]\n",
    "encoder = LabelEncoder()\n",
    "y = encoder.fit_transform(genre_list)\n",
    "X = np.array(data.iloc[:, :-1], dtype = float)\n",
    "\n"
   ]
  },
  {
   "cell_type": "code",
   "execution_count": 15,
   "metadata": {},
   "outputs": [],
   "source": [
    "X_train, X_test, y_train, y_test = train_test_split(X, y, test_size=0.2)"
   ]
  },
  {
   "cell_type": "code",
   "execution_count": 16,
   "metadata": {},
   "outputs": [
    {
     "name": "stderr",
     "output_type": "stream",
     "text": [
      "Using TensorFlow backend.\n"
     ]
    },
    {
     "name": "stdout",
     "output_type": "stream",
     "text": [
      "WARNING:tensorflow:From C:\\Users\\minds\\Anaconda3\\lib\\site-packages\\tensorflow\\python\\framework\\op_def_library.py:263: colocate_with (from tensorflow.python.framework.ops) is deprecated and will be removed in a future version.\n",
      "Instructions for updating:\n",
      "Colocations handled automatically by placer.\n"
     ]
    }
   ],
   "source": [
    "from keras import models\n",
    "from keras import layers\n",
    "\n",
    "model = models.Sequential()\n",
    "model.add(layers.Dense(256, activation='relu', input_shape=(X_train.shape[1],)))\n",
    "\n",
    "model.add(layers.Dense(128, activation='relu'))\n",
    "\n",
    "model.add(layers.Dense(64, activation='relu'))\n",
    "\n",
    "model.add(layers.Dense(10, activation='softmax'))"
   ]
  },
  {
   "cell_type": "code",
   "execution_count": 17,
   "metadata": {},
   "outputs": [],
   "source": [
    "model.compile(optimizer='adam',\n",
    "              loss='sparse_categorical_crossentropy',\n",
    "              metrics=['accuracy'])"
   ]
  },
  {
   "cell_type": "code",
   "execution_count": 18,
   "metadata": {},
   "outputs": [
    {
     "name": "stdout",
     "output_type": "stream",
     "text": [
      "WARNING:tensorflow:From C:\\Users\\minds\\Anaconda3\\lib\\site-packages\\tensorflow\\python\\ops\\math_ops.py:3066: to_int32 (from tensorflow.python.ops.math_ops) is deprecated and will be removed in a future version.\n",
      "Instructions for updating:\n",
      "Use tf.cast instead.\n",
      "Epoch 1/20\n",
      "384/384 [==============================] - 2s 6ms/step - loss: 2.2747 - acc: 0.1172\n",
      "Epoch 2/20\n",
      "384/384 [==============================] - 0s 26us/step - loss: 2.1304 - acc: 0.3177\n",
      "Epoch 3/20\n",
      "384/384 [==============================] - 0s 26us/step - loss: 1.9929 - acc: 0.4089\n",
      "Epoch 4/20\n",
      "384/384 [==============================] - 0s 29us/step - loss: 1.8401 - acc: 0.4271\n",
      "Epoch 5/20\n",
      "384/384 [==============================] - 0s 31us/step - loss: 1.7019 - acc: 0.4297\n",
      "Epoch 6/20\n",
      "384/384 [==============================] - 0s 36us/step - loss: 1.5955 - acc: 0.4635\n",
      "Epoch 7/20\n",
      "384/384 [==============================] - 0s 31us/step - loss: 1.4975 - acc: 0.4948\n",
      "Epoch 8/20\n",
      "384/384 [==============================] - 0s 34us/step - loss: 1.4059 - acc: 0.5391\n",
      "Epoch 9/20\n",
      "384/384 [==============================] - 0s 34us/step - loss: 1.3239 - acc: 0.5781\n",
      "Epoch 10/20\n",
      "384/384 [==============================] - 0s 29us/step - loss: 1.2621 - acc: 0.5938\n",
      "Epoch 11/20\n",
      "384/384 [==============================] - 0s 34us/step - loss: 1.2061 - acc: 0.6094\n",
      "Epoch 12/20\n",
      "384/384 [==============================] - 0s 34us/step - loss: 1.1571 - acc: 0.6146\n",
      "Epoch 13/20\n",
      "384/384 [==============================] - 0s 29us/step - loss: 1.1199 - acc: 0.6172\n",
      "Epoch 14/20\n",
      "384/384 [==============================] - 0s 28us/step - loss: 1.0803 - acc: 0.6432\n",
      "Epoch 15/20\n",
      "384/384 [==============================] - 0s 31us/step - loss: 1.0413 - acc: 0.6484\n",
      "Epoch 16/20\n",
      "384/384 [==============================] - 0s 31us/step - loss: 1.0074 - acc: 0.6667\n",
      "Epoch 17/20\n",
      "384/384 [==============================] - 0s 31us/step - loss: 0.9789 - acc: 0.6589\n",
      "Epoch 18/20\n",
      "384/384 [==============================] - 0s 31us/step - loss: 0.9513 - acc: 0.6823\n",
      "Epoch 19/20\n",
      "384/384 [==============================] - 0s 28us/step - loss: 0.9251 - acc: 0.7161\n",
      "Epoch 20/20\n",
      "384/384 [==============================] - 0s 34us/step - loss: 0.8931 - acc: 0.7109\n"
     ]
    }
   ],
   "source": [
    "history = model.fit(X_train,\n",
    "                    y_train,\n",
    "                    epochs=20,\n",
    "                    batch_size=128)\n",
    "\n"
   ]
  },
  {
   "cell_type": "code",
   "execution_count": 19,
   "metadata": {},
   "outputs": [
    {
     "name": "stdout",
     "output_type": "stream",
     "text": [
      "96/96 [==============================] - 0s 426us/step\n"
     ]
    }
   ],
   "source": [
    "test_loss, test_acc = model.evaluate(X_test,y_test)"
   ]
  },
  {
   "cell_type": "code",
   "execution_count": 20,
   "metadata": {},
   "outputs": [
    {
     "name": "stdout",
     "output_type": "stream",
     "text": [
      "test_acc:  0.59375\n"
     ]
    }
   ],
   "source": [
    "print('test_acc: ',test_acc)"
   ]
  },
  {
   "cell_type": "code",
   "execution_count": 21,
   "metadata": {},
   "outputs": [],
   "source": [
    "predictions = model.predict(X_test)"
   ]
  },
  {
   "cell_type": "code",
   "execution_count": 22,
   "metadata": {},
   "outputs": [
    {
     "data": {
      "text/plain": [
       "(10,)"
      ]
     },
     "execution_count": 22,
     "metadata": {},
     "output_type": "execute_result"
    }
   ],
   "source": [
    "predictions[0].shape"
   ]
  },
  {
   "cell_type": "code",
   "execution_count": 23,
   "metadata": {},
   "outputs": [
    {
     "data": {
      "text/plain": [
       "0.99999994"
      ]
     },
     "execution_count": 23,
     "metadata": {},
     "output_type": "execute_result"
    }
   ],
   "source": [
    "np.sum(predictions[0])"
   ]
  }
 ],
 "metadata": {
  "kernelspec": {
   "display_name": "Python 3",
   "language": "python",
   "name": "python3"
  },
  "language_info": {
   "codemirror_mode": {
    "name": "ipython",
    "version": 3
   },
   "file_extension": ".py",
   "mimetype": "text/x-python",
   "name": "python",
   "nbconvert_exporter": "python",
   "pygments_lexer": "ipython3",
   "version": "3.7.0"
  },
  "toc": {
   "base_numbering": 1,
   "nav_menu": {},
   "number_sections": true,
   "sideBar": true,
   "skip_h1_title": false,
   "title_cell": "Table of Contents",
   "title_sidebar": "Contents",
   "toc_cell": false,
   "toc_position": {},
   "toc_section_display": true,
   "toc_window_display": false
  },
  "varInspector": {
   "cols": {
    "lenName": 16,
    "lenType": 16,
    "lenVar": 40
   },
   "kernels_config": {
    "python": {
     "delete_cmd_postfix": "",
     "delete_cmd_prefix": "del ",
     "library": "var_list.py",
     "varRefreshCmd": "print(var_dic_list())"
    },
    "r": {
     "delete_cmd_postfix": ") ",
     "delete_cmd_prefix": "rm(",
     "library": "var_list.r",
     "varRefreshCmd": "cat(var_dic_list()) "
    }
   },
   "types_to_exclude": [
    "module",
    "function",
    "builtin_function_or_method",
    "instance",
    "_Feature"
   ],
   "window_display": false
  }
 },
 "nbformat": 4,
 "nbformat_minor": 1
}
